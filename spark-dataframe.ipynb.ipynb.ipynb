{
 "cells": [
  {
   "cell_type": "code",
   "execution_count": 10,
   "id": "26a68a83",
   "metadata": {},
   "outputs": [],
   "source": [
    "from pyspark.sql.types import StructType, StructField, StringType, IntegerType, FloatType\n",
    "from pyspark.sql.functions import *\n",
    "from pyspark.ml.recommendation import ALS"
   ]
  },
  {
   "cell_type": "code",
   "execution_count": 18,
   "id": "05bedbd0",
   "metadata": {},
   "outputs": [],
   "source": [
    "schema = StructType([\n",
    "    StructField('app_id',\n",
    "                StringType(), True),\n",
    "    StructField('app_name',\n",
    "                StringType(), True),\n",
    "    StructField('review_text',\n",
    "                StringType(), True),\n",
    "    StructField('review_score',\n",
    "                IntegerType(), True),\n",
    "    StructField('review_votes',\n",
    "                IntegerType(), True)\n",
    "])\n",
    "df = spark.read.option(\"header\",True).csv('dataset.csv', schema)"
   ]
  },
  {
   "cell_type": "code",
   "execution_count": 19,
   "id": "1b55136e",
   "metadata": {},
   "outputs": [
    {
     "name": "stdout",
     "output_type": "stream",
     "text": [
      "+------+--------------+--------------------+------------+------------+\n",
      "|app_id|      app_name|         review_text|review_score|review_votes|\n",
      "+------+--------------+--------------------+------------+------------+\n",
      "|    10|Counter-Strike|     Ruined my life.|           1|           0|\n",
      "|    10|Counter-Strike|This will be more...|           1|           1|\n",
      "|    10|Counter-Strike|This game saved m...|           1|           0|\n",
      "|    10|Counter-Strike|• Do you like ori...|           1|           0|\n",
      "|    10|Counter-Strike|        Easy to l...|           1|           1|\n",
      "+------+--------------+--------------------+------------+------------+\n",
      "only showing top 5 rows\n",
      "\n",
      "23/05/14 04:47:38 WARN HeartbeatReceiver: Removing executor driver with no recent heartbeats: 972722 ms exceeds timeout 120000 ms\n",
      "23/05/14 04:47:38 WARN SparkContext: Killing executors is not supported by current scheduler.\n"
     ]
    }
   ],
   "source": [
    "df.show(5)"
   ]
  },
  {
   "cell_type": "code",
   "execution_count": 19,
   "id": "207bc16a",
   "metadata": {},
   "outputs": [],
   "source": [
    "popular_apps = (df\n",
    "    .select(\"app_name\")\n",
    "    .where(col(\"app_name\").isNotNull())\n",
    "    .groupBy(\"app_name\")\n",
    "    .count()\n",
    "    .orderBy(\"count\", ascending=False))"
   ]
  },
  {
   "cell_type": "code",
   "execution_count": 20,
   "id": "cfdf1924",
   "metadata": {},
   "outputs": [
    {
     "name": "stderr",
     "output_type": "stream",
     "text": [
      "[Stage 13:====================================>                   (11 + 6) / 17]\r"
     ]
    },
    {
     "name": "stdout",
     "output_type": "stream",
     "text": [
      "+------------------+-----+\n",
      "|app_name          |count|\n",
      "+------------------+-----+\n",
      "|PAYDAY 2          |88973|\n",
      "|DayZ              |88850|\n",
      "|Terraria          |84828|\n",
      "|Rust              |77037|\n",
      "|Dota 2            |73541|\n",
      "|Rocket League     |54227|\n",
      "|Undertale         |51918|\n",
      "|Left 4 Dead 2     |50980|\n",
      "|Warframe          |48229|\n",
      "|Grand Theft Auto V|42374|\n",
      "+------------------+-----+\n",
      "only showing top 10 rows\n",
      "\n"
     ]
    },
    {
     "name": "stderr",
     "output_type": "stream",
     "text": [
      "\r",
      "                                                                                \r"
     ]
    }
   ],
   "source": [
    "popular_apps.show(n=10, truncate=False)"
   ]
  },
  {
   "cell_type": "code",
   "execution_count": 27,
   "id": "11eed759",
   "metadata": {},
   "outputs": [
    {
     "name": "stderr",
     "output_type": "stream",
     "text": [
      "                                                                                \r"
     ]
    }
   ],
   "source": [
    "popular_apps.write.json(\"../../data/apps_review_count\", mode=\"overwrite\")"
   ]
  },
  {
   "cell_type": "code",
   "execution_count": 21,
   "id": "c0d5e50b",
   "metadata": {},
   "outputs": [],
   "source": [
    "highrated_apps = (df\n",
    "    .select(\"*\")\n",
    "    .where(col(\"app_name\").isNotNull())\n",
    "    .groupBy(\"app_name\")\n",
    "    .sum(\"review_score\")\n",
    "    .withColumnRenamed('sum(review_score)', 'total_score')\n",
    "    .orderBy(\"total_score\", ascending=False))"
   ]
  },
  {
   "cell_type": "code",
   "execution_count": 22,
   "id": "d445cf24",
   "metadata": {},
   "outputs": [
    {
     "name": "stderr",
     "output_type": "stream",
     "text": [
      "[Stage 16:====================================>                   (11 + 6) / 17]\r"
     ]
    },
    {
     "name": "stdout",
     "output_type": "stream",
     "text": [
      "+-------------+-----------+\n",
      "|app_name     |total_score|\n",
      "+-------------+-----------+\n",
      "|Terraria     |79872      |\n",
      "|Dota 2       |52302      |\n",
      "|Rocket League|48012      |\n",
      "|Undertale    |47782      |\n",
      "|Rust         |45027      |\n",
      "|Left 4 Dead 2|43384      |\n",
      "|Warframe     |39265      |\n",
      "|Portal 2     |37972      |\n",
      "|PAYDAY 2     |34561      |\n",
      "|Starbound    |31126      |\n",
      "+-------------+-----------+\n",
      "only showing top 10 rows\n",
      "\n"
     ]
    },
    {
     "name": "stderr",
     "output_type": "stream",
     "text": [
      "\r",
      "                                                                                \r"
     ]
    }
   ],
   "source": [
    "highrated_apps.show(n=10, truncate=False)"
   ]
  },
  {
   "cell_type": "code",
   "execution_count": 26,
   "id": "0c951b49",
   "metadata": {},
   "outputs": [
    {
     "name": "stderr",
     "output_type": "stream",
     "text": [
      "                                                                                \r"
     ]
    }
   ],
   "source": [
    "highrated_apps.write.json(\"../../data/highrated_apps\", mode=\"overwrite\")"
   ]
  },
  {
   "cell_type": "code",
   "execution_count": 14,
   "id": "00413aa8",
   "metadata": {},
   "outputs": [],
   "source": [
    "import re\n",
    "from pyspark.sql.functions import udf\n",
    "\n",
    "def removePunctuation(text):\n",
    "    text = text.lower()\n",
    "    text = re.sub(r'[^a-zA-Z0-9\\s]+', '', text)\n",
    "    text = re.sub(r'\\s+', ' ', text)\n",
    "    text = text.strip()\n",
    "    return text\n",
    "\n",
    "removePunctuation_udf = udf(removePunctuation)"
   ]
  },
  {
   "cell_type": "code",
   "execution_count": 15,
   "id": "4ca5fb2c",
   "metadata": {},
   "outputs": [],
   "source": [
    "review_texts = df.where(col(\"app_name\").isNotNull()).where(col(\"review_text\").isNotNull())\\\n",
    ".withColumn(\"cleaned_review_text\", removePunctuation_udf(\"review_text\")).select(\"app_id\", \"app_name\", \"cleaned_review_text\")\\\n",
    ".withColumn('words_list', split(col('cleaned_review_text'), ' ')).select(\"app_id\", \"app_name\", \"words_list\")"
   ]
  },
  {
   "cell_type": "code",
   "execution_count": 16,
   "id": "d71f1908",
   "metadata": {},
   "outputs": [],
   "source": [
    "from pyspark.ml.feature import StopWordsRemover\n",
    "\n",
    "remover = StopWordsRemover()\n",
    "remover.setInputCol(\"words_list\")\n",
    "remover.setOutputCol(\"words_list_out\")\n",
    "review_texts = remover.transform(review_texts)\n",
    "review_texts_out = review_texts.withColumn('word', explode(col('words_list_out'))).select(\"app_id\", \"app_name\", \"word\")"
   ]
  },
  {
   "cell_type": "code",
   "execution_count": 17,
   "id": "406ffd3d",
   "metadata": {},
   "outputs": [
    {
     "name": "stdout",
     "output_type": "stream",
     "text": [
      "+------+--------------+-------------+\n",
      "|app_id|      app_name|         word|\n",
      "+------+--------------+-------------+\n",
      "|    10|Counter-Strike|       ruined|\n",
      "|    10|Counter-Strike|         life|\n",
      "|    10|Counter-Strike|   experience|\n",
      "|    10|Counter-Strike|         game|\n",
      "|    10|Counter-Strike|         type|\n",
      "|    10|Counter-Strike|       review|\n",
      "|    10|Counter-Strike|       saying|\n",
      "|    10|Counter-Strike|       things|\n",
      "|    10|Counter-Strike|         like|\n",
      "|    10|Counter-Strike|        great|\n",
      "|    10|Counter-Strike|     gameplay|\n",
      "|    10|Counter-Strike|         suit|\n",
      "|    10|Counter-Strike|    something|\n",
      "|    10|Counter-Strike|          ive|\n",
      "|    10|Counter-Strike|  experienced|\n",
      "|    10|Counter-Strike|counterstrike|\n",
      "|    10|Counter-Strike|           go|\n",
      "|    10|Counter-Strike|     remember|\n",
      "|    10|Counter-Strike|         back|\n",
      "|    10|Counter-Strike|         2002|\n",
      "+------+--------------+-------------+\n",
      "only showing top 20 rows\n",
      "\n"
     ]
    }
   ],
   "source": [
    "review_texts_out.show()"
   ]
  },
  {
   "cell_type": "code",
   "execution_count": 18,
   "id": "f54c73a2",
   "metadata": {},
   "outputs": [],
   "source": [
    "review_words = review_texts_out.groupBy(\"app_id\", \"app_name\", \"word\").count()\\\n",
    "# .orderBy(\"app_id\", \"app_name\", \"count\", ascending=False)"
   ]
  },
  {
   "cell_type": "code",
   "execution_count": 19,
   "id": "1da289d5",
   "metadata": {},
   "outputs": [],
   "source": [
    "from pyspark.sql.window import Window\n",
    "\n",
    "window_words = Window.partitionBy(\"app_id\", \"app_name\").orderBy(col(\"count\").desc())\n",
    "review_frequent_words = review_words.withColumn(\"row\",row_number().over(window_words)).filter(col(\"row\") <= 10)\\\n",
    "                        .select(\"app_id\", \"app_name\", \"word\", \"count\")"
   ]
  },
  {
   "cell_type": "code",
   "execution_count": null,
   "id": "f701d282",
   "metadata": {},
   "outputs": [],
   "source": [
    "review_frequent_words.write.json(\"../../data/review_frequent_words\", mode=\"overwrite\")"
   ]
  },
  {
   "cell_type": "code",
   "execution_count": 22,
   "id": "27a77182",
   "metadata": {},
   "outputs": [],
   "source": [
    "review_frequent_word_list = review_frequent_words.groupBy(\"app_id\", \"app_name\").agg(collect_set(\"word\").alias(\"words\"))"
   ]
  },
  {
   "cell_type": "code",
   "execution_count": null,
   "id": "e89bfa1b",
   "metadata": {},
   "outputs": [],
   "source": [
    "review_frequent_word_list.write.json(\"../../data/review_frequent_word_list\", mode=\"overwrite\")"
   ]
  }
 ],
 "metadata": {
  "kernelspec": {
   "display_name": "Python 3 (ipykernel)",
   "language": "python",
   "name": "python3"
  },
  "language_info": {
   "codemirror_mode": {
    "name": "ipython",
    "version": 3
   },
   "file_extension": ".py",
   "mimetype": "text/x-python",
   "name": "python",
   "nbconvert_exporter": "python",
   "pygments_lexer": "ipython3",
   "version": "3.9.13"
  }
 },
 "nbformat": 4,
 "nbformat_minor": 5
}
