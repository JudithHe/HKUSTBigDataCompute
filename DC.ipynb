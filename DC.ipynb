{
 "cells": [
  {
   "cell_type": "markdown",
   "metadata": {},
   "source": [
    "### Prefix Sums"
   ]
  },
  {
   "cell_type": "code",
   "execution_count": 1,
   "metadata": {},
   "outputs": [
    {
     "name": "stdout",
     "output_type": "stream",
     "text": [
      "[5, 8, 13, 1]\n",
      "[5, 13, 26, 27]\n",
      "[1, 5, 8, 13, 19, 26, 26, 27]\n"
     ]
    }
   ],
   "source": [
    "x = [1, 4, 3, 5, 6, 7, 0, 1]\n",
    "\n",
    "rdd = sc.parallelize(x, 4).cache()\n",
    "\n",
    "def f(iterator):\n",
    "    yield sum(iterator)\n",
    "\n",
    "sums = rdd.mapPartitions(f).collect()\n",
    "\n",
    "print(sums)\n",
    "\n",
    "for i in range(1, len(sums)):\n",
    "    sums[i] += sums[i-1]\n",
    "\n",
    "print(sums)\n",
    "\n",
    "def g(index, iterator):\n",
    "    global sums\n",
    "    if index == 0:\n",
    "        s = 0\n",
    "    else:\n",
    "        s = sums[index-1]\n",
    "    for i in iterator:\n",
    "        s += i\n",
    "        yield s\n",
    "\n",
    "prefix_sums = rdd.mapPartitionsWithIndex(g)\n",
    "print(prefix_sums.collect())"
   ]
  },
  {
   "cell_type": "markdown",
   "metadata": {},
   "source": [
    "### Monotocity checking"
   ]
  },
  {
   "cell_type": "code",
   "execution_count": 17,
   "metadata": {},
   "outputs": [
    {
     "name": "stdout",
     "output_type": "stream",
     "text": [
      "[(True, 1, 5), (True, 4, 14), (True, 16, 24), (True, 24, 30)]\n"
     ]
    },
    {
     "name": "stderr",
     "output_type": "stream",
     "text": [
      "<itertools.chain object at 0x7fd0e108edc0> 4 4\n",
      "<itertools.chain object at 0x7fd0e108edc0> 1 1\n",
      "<itertools.chain object at 0x7fd0e108edc0> 16 16\n",
      "<itertools.chain object at 0x7fd0e108edc0> 24 24\n"
     ]
    }
   ],
   "source": [
    "x = [1, 3, 4, 5, 4, 8, 10, 14, 16, 20, 21, 24, 24, 26, 27, 30]\n",
    "\n",
    "rdd = sc.parallelize(x, 4).cache()\n",
    "\n",
    "def f(it):\n",
    "    first = next(it)\n",
    "    last = first\n",
    "    increasing = True\n",
    "    print(it, first,last)\n",
    "    for i in it:\n",
    "        if i < last:\n",
    "            increasing = False\n",
    "        last = i\n",
    "    yield increasing, first, last\n",
    "\n",
    "results = rdd.mapPartitions(f).collect()\n",
    "print(results)\n",
    "\n",
    "increasing = True\n",
    "if results[0][0] == False:\n",
    "    increasing = False\n",
    "else:\n",
    "    for i in range(1, len(results)):\n",
    "        if results[i][0] == False or results[i][1] < results[i-1][2]:\n",
    "            increasing = False\n",
    "if increasing:\n",
    "    print(\"Monotone\")\n",
    "else:\n",
    "    print(\"Not monotone\")\n",
    "\n"
   ]
  },
  {
   "cell_type": "code",
   "execution_count": 16,
   "metadata": {},
   "outputs": [
    {
     "name": "stdout",
     "output_type": "stream",
     "text": [
      "[(True, 1, 5), (True, 4, 14), (True, 16, 24), (True, 24, 30)]\n",
      "Not monotone\n"
     ]
    }
   ],
   "source": [
    "\n",
    "\n"
   ]
  },
  {
   "cell_type": "markdown",
   "metadata": {},
   "source": [
    "### Maximum Subarray Problem"
   ]
  },
  {
   "cell_type": "code",
   "execution_count": 11,
   "metadata": {},
   "outputs": [
    {
     "name": "stdout",
     "output_type": "stream",
     "text": [
      "9\n"
     ]
    }
   ],
   "source": [
    "# Classical divide and conquer algorithm\n",
    "\n",
    "A = [-3, 2, 1, -4, 5, 2, -1, 3, -1]\n",
    "\n",
    "def MaxSubarray(A, p, r):\n",
    "    if p == r:\n",
    "        return A[p]\n",
    "    q = (p+r)//2\n",
    "    M1 = MaxSubarray(A, p, q)\n",
    "    M2 = MaxSubarray(A, q+1, r)\n",
    "    Lm = -float('inf')\n",
    "    Rm = Lm\n",
    "    V = 0\n",
    "    for i in range(q, p-1, -1):\n",
    "        V += A[i]\n",
    "        if V > Lm:\n",
    "            Lm = V\n",
    "    V = 0\n",
    "    for i in range(q+1, r+1):\n",
    "        V += A[i]\n",
    "        if V > Rm:\n",
    "            Rm = V\n",
    "    return max(M1, M2, Lm+Rm)\n",
    "\n",
    "print(MaxSubarray(A, 0, len(A)-1))"
   ]
  },
  {
   "cell_type": "code",
   "execution_count": 14,
   "metadata": {},
   "outputs": [
    {
     "name": "stdout",
     "output_type": "stream",
     "text": [
      "9\n"
     ]
    }
   ],
   "source": [
    "# Linear-time algorithm\n",
    "# Written in a way so that we can call it for each partition\n",
    "\n",
    "def linear_time(it):\n",
    "    Vmax = -float('inf')\n",
    "    V = 0\n",
    "    for Ai in it:\n",
    "        V += Ai\n",
    "        if V > Vmax:\n",
    "            Vmax = V\n",
    "        if V < 0:\n",
    "            V = 0\n",
    "    yield Vmax\n",
    "    \n",
    "print(next(linear_time(A)))"
   ]
  },
  {
   "cell_type": "code",
   "execution_count": 17,
   "metadata": {},
   "outputs": [
    {
     "name": "stdout",
     "output_type": "stream",
     "text": [
      "[-1, -3, 7, 1]\n",
      "[(2, -1), (0, 1), (2, 7), (2, 2)]\n",
      "9\n"
     ]
    }
   ],
   "source": [
    "# The Spark algorithm:\n",
    "\n",
    "def compute_sum(it):\n",
    "    yield sum(it)\n",
    "\n",
    "def compute_LmRm(index, it):\n",
    "    Rm = -float('inf')\n",
    "    L = sums[index]\n",
    "    Lm = L\n",
    "    R = 0\n",
    "    for Ai in it:\n",
    "        L -= Ai\n",
    "        R += Ai\n",
    "        if L > Lm:\n",
    "            Lm = L\n",
    "        if R > Rm:\n",
    "            Rm = R\n",
    "    yield (Lm, Rm)\n",
    "\n",
    "num_partitions = 4\n",
    "rdd = sc.parallelize(A, num_partitions).cache()\n",
    "sums = rdd.mapPartitions(compute_sum).collect()\n",
    "print(sums)\n",
    "LmRms = rdd.mapPartitionsWithIndex(compute_LmRm).collect()\n",
    "print(LmRms)\n",
    "best = max(rdd.mapPartitions(linear_time).collect())\n",
    "\n",
    "for i in range(num_partitions-1):\n",
    "    for j in range(i+1, num_partitions):\n",
    "        x = LmRms[i][0] + sum(sums[i+1:j]) + LmRms[j][1]\n",
    "        if x > best:\n",
    "            best = x\n",
    "\n",
    "print(best)"
   ]
  },
  {
   "cell_type": "code",
   "execution_count": 8,
   "metadata": {},
   "outputs": [
    {
     "name": "stdout",
     "output_type": "stream",
     "text": [
      "[0, 1, 2, 3, 4, 5, 6, 7, 8, 9, 10, 11, 12, 13, 14, 15, 16, 17, 18, 19, 20, 21, 22, 23, 24, 26, 27, 28, 29, 30, 31, 32, 33, 34, 35, 36, 37, 38, 39, 40, 41, 42, 43, 44, 45, 46, 47, 48, 49, 50, 52, 53, 54, 55, 56, 57, 58, 59, 60, 61, 62, 63, 64, 65, 66, 67, 68, 69, 70, 71, 72, 73, 74, 75, 76, 78, 79, 80, 81, 82, 83, 84, 85, 86, 87, 88, 89, 90, 91, 92, 93, 94, 95, 96, 97, 98, 99, 100, 101, 102]\n"
     ]
    }
   ],
   "source": [
    "def f(index, it):\n",
    "    for i in it:\n",
    "        yield i+index\n",
    "\n",
    "A = sc.parallelize(range(100), 4).mapPartitionsWithIndex(f)\n",
    "print(A.take(100))"
   ]
  },
  {
   "cell_type": "code",
   "execution_count": 47,
   "metadata": {},
   "outputs": [
    {
     "name": "stdout",
     "output_type": "stream",
     "text": [
      "[(0, '='), (1, '<'), (2, '='), (3, '=')]\n",
      "x is < than y\n"
     ]
    }
   ],
   "source": [
    "x = 'abcccbcbcacaccacaabb'\n",
    "y = 'abcccbcccacaccacaabb'\n",
    "\n",
    "numPartitions = 4\n",
    "rdd = sc.parallelize(zip(x,y), numPartitions)\n",
    "#print(rdd.glom().collect())\n",
    "\n",
    "def f(index, it):\n",
    "    label = \"=\"\n",
    "    for i in it:\n",
    "        if i[0] == i[1]:\n",
    "            continue\n",
    "        if i[0]>i[1]:\n",
    "            label = \">\"\n",
    "            break\n",
    "        else:\n",
    "            label = \"<\"\n",
    "            break\n",
    "    yield index, label\n",
    "\n",
    "# FILL IN YOUR CODE HERE\n",
    "res = rdd.mapPartitionsWithIndex(f).collect()\n",
    "#print(res)\n",
    "\n",
    "final_res = \"=\"\n",
    "for i in range(len(res)):\n",
    "    if res[i][1] == \"=\":\n",
    "        continue\n",
    "    elif res[i][1]!= \"=\":\n",
    "        final_res = res[i][1]\n",
    "        break\n",
    "\n",
    "print(\"\",final_res)"
   ]
  },
  {
   "cell_type": "code",
   "execution_count": 38,
   "metadata": {},
   "outputs": [
    {
     "name": "stdout",
     "output_type": "stream",
     "text": [
      "[(True, 1, 5), (True, 4, 14), (True, 16, 24), (True, 24, 30)]\n",
      "Not monotone\n"
     ]
    },
    {
     "name": "stderr",
     "output_type": "stream",
     "text": [
      "<itertools.chain object at 0x7fd0e108ed00> 24 24\n",
      "<itertools.chain object at 0x7fd0e108ed00> 4 4\n",
      "<itertools.chain object at 0x7fd0e108ed00> 1 1\n",
      "<itertools.chain object at 0x7fd0e108ed00> 16 16\n"
     ]
    }
   ],
   "source": [
    "x = [1, 3, 4, 5, 4, 8, 10, 14, 16, 20, 21, 24, 24, 26, 27, 30]\n",
    "\n",
    "rdd = sc.parallelize(x, 4).cache()\n",
    "\n",
    "def f(it):\n",
    "    first = next(it)\n",
    "    last = first\n",
    "    increasing = True\n",
    "    print(it, first,last)\n",
    "    for i in it:\n",
    "        if i < last:\n",
    "            increasing = False\n",
    "        last = i\n",
    "    yield increasing, first, last\n",
    "\n",
    "results = rdd.mapPartitions(f).collect()\n",
    "print(results)\n",
    "\n",
    "increasing = True\n",
    "if results[0][0] == False:\n",
    "    increasing = False\n",
    "else:\n",
    "    for i in range(1, len(results)):\n",
    "        if results[i][0] == False or results[i][1] < results[i-1][2]:\n",
    "            increasing = False\n",
    "if increasing:\n",
    "    print(\"Monotone\")\n",
    "else:\n",
    "    print(\"Not monotone\")\n",
    "\n",
    "\n"
   ]
  },
  {
   "cell_type": "code",
   "execution_count": 18,
   "metadata": {},
   "outputs": [
    {
     "name": "stdout",
     "output_type": "stream",
     "text": [
      "[(True, 1, 5), (True, 4, 14), (True, 16, 24), (True, 24, 30)]\n",
      "Not monotone\n"
     ]
    },
    {
     "name": "stderr",
     "output_type": "stream",
     "text": [
      "<itertools.chain object at 0x7fd0e108ed00> 24 24\n",
      "<itertools.chain object at 0x7fd0e108ed00> 16 16\n",
      "<itertools.chain object at 0x7fd0e108ed00> 1 1\n",
      "<itertools.chain object at 0x7fd0e108ed00> 4 4\n"
     ]
    }
   ],
   "source": [
    "x = [1, 3, 4, 5, 4, 8, 10, 14, 16, 20, 21, 24, 24, 26, 27, 30]\n",
    "\n",
    "rdd = sc.parallelize(x, 4).cache()\n",
    "\n",
    "def f(it):\n",
    "    first = next(it)\n",
    "    last = first\n",
    "    increasing = True\n",
    "    print(it, first,last)\n",
    "    for i in it:\n",
    "        if i < last:\n",
    "            increasing = False\n",
    "        last = i\n",
    "    yield increasing, first, last\n",
    "\n",
    "results = rdd.mapPartitions(f).collect()\n",
    "print(results)\n",
    "\n",
    "increasing = True\n",
    "if results[0][0] == False:\n",
    "    increasing = False\n",
    "else:\n",
    "    for i in range(1, len(results)):\n",
    "        if results[i][0] == False or results[i][1] < results[i-1][2]:\n",
    "            increasing = False\n",
    "if increasing:\n",
    "    print(\"Monotone\")\n",
    "else:\n",
    "    print(\"Not monotone\")\n",
    "\n",
    "\n"
   ]
  },
  {
   "cell_type": "code",
   "execution_count": 46,
   "metadata": {},
   "outputs": [
    {
     "ename": "IndentationError",
     "evalue": "expected an indented block (4074154813.py, line 20)",
     "output_type": "error",
     "traceback": [
      "\u001b[0;36m  File \u001b[0;32m\"/var/folders/h0/cr6ykp052gngl6yqd4mtpvtm0000gn/T/ipykernel_4063/4074154813.py\"\u001b[0;36m, line \u001b[0;32m20\u001b[0m\n\u001b[0;31m    label = \">\"\u001b[0m\n\u001b[0m               ^\u001b[0m\n\u001b[0;31mIndentationError\u001b[0m\u001b[0;31m:\u001b[0m expected an indented block\n"
     ]
    }
   ],
   "source": [
    "x = 'abcccbcbcacaccacaabb'\n",
    "y = 'abcccbcccacaccacaabb'\n",
    "\n",
    "numPartitions = 4\n",
    "rdd = sc.parallelize(zip(x,y), numPartitions)\n",
    "\n",
    "\n",
    "\n",
    "\n",
    "\n",
    "# FILL IN YOUR CODE HERE\n",
    "res = rdd.mapPartitionsWithIndex(f).collect()\n",
    "\n",
    "label = \"=\"\n",
    "def f(index, it):\n",
    "    for i in it:\n",
    "        if i[0] == i[1]:\n",
    "            continue\n",
    "        if i[0]>i[1]:\n",
    "            label = \">\"\n",
    "            break\n",
    "        else:\n",
    "            label = \"<\"\n",
    "            break\n",
    "    yield index, label\n",
    "print(res)\n",
    "\n",
    "final_res = \"=\"\n",
    "for i in range(len(res)):\n",
    "    if res[i][1] == \"=\":\n",
    "        continue\n",
    "    elif res[i][1]!= \"=\":\n",
    "        final_res = res[i][1]\n",
    "        break\n",
    "\n",
    "print(\"x is\",final_res, \"than y\")"
   ]
  },
  {
   "cell_type": "code",
   "execution_count": 13,
   "metadata": {},
   "outputs": [
    {
     "name": "stdout",
     "output_type": "stream",
     "text": [
      "[(0, '='), (1, '<'), (2, '='), (3, '=')]\n",
      "lexicographical order of x and y is  <\n"
     ]
    }
   ],
   "source": [
    "x = 'abcccbcbcacaccacaabb'\n",
    "y = 'abcccbcccacaccacaabb'\n",
    "\n",
    "numPartitions = 4\n",
    "rdd = sc.parallelize(zip(x,y), numPartitions)\n",
    "\n",
    "\n",
    "def f(index, it):\n",
    "    label = '='\n",
    "    for i in it:\n",
    "        if i[0] == i[1]:\n",
    "            continue\n",
    "        if i[0]>i[1]:\n",
    "            label = \">\"\n",
    "            break\n",
    "        else:\n",
    "            label = \"<\"\n",
    "            break\n",
    "    yield index, label\n",
    "\n",
    "# FILL IN YOUR CODE HERE\n",
    "res = rdd.mapPartitionsWithIndex(f).collect()\n",
    "print(res)\n",
    "\n",
    "final_res = \"=\"\n",
    "for i in range(len(res)):\n",
    "    if res[i][1] == \"=\":\n",
    "        continue\n",
    "    elif res[i][1]!= \"=\":\n",
    "        final_res = res[i][1]\n",
    "        break\n",
    "\n",
    "print(\"lexicographical order of x and y is \",final_res)"
   ]
  },
  {
   "cell_type": "code",
   "execution_count": 16,
   "metadata": {},
   "outputs": [
    {
     "name": "stdout",
     "output_type": "stream",
     "text": [
      "23/04/04 11:52:57 WARN BlockManager: Task 42 already completed, not releasing lock for rdd_43_7\n",
      "23/04/04 11:52:57 WARN BlockManager: Task 43 already completed, not releasing lock for rdd_43_8\n",
      "23/04/04 11:52:57 WARN BlockManager: Task 44 already completed, not releasing lock for rdd_43_9\n",
      "[(0, ''), (1, ''), (2, ''), (3, ''), (4, 'several'), (5, ''), (6, 'national'), (7, 'Official'), (8, 'large-scale'), (9, 'italian')]\n",
      "first adj is  several\n"
     ]
    },
    {
     "name": "stderr",
     "output_type": "stream",
     "text": [
      "\r",
      "[Stage 5:========================================>                 (7 + 3) / 10]\r",
      "\r",
      "                                                                                \r"
     ]
    }
   ],
   "source": [
    "numPartitions = 10\n",
    "\n",
    "path_to_file = \"adj_noun_pairs.txt\"\n",
    "lines = sc.textFile(path_to_file, numPartitions)\n",
    "pairs = lines.map(lambda l: tuple(l.split())).filter(lambda p: len(p)==2)\n",
    "pairs.cache()\n",
    "\n",
    "# FILL IN YOUR CODE HERE\n",
    "def f(index, it):\n",
    "    adj = \"\"\n",
    "    for i in it:\n",
    "        if i[1] == \"unification\":\n",
    "            adj = i[0]\n",
    "            break\n",
    "    yield index, adj\n",
    "    \n",
    "res = pairs.mapPartitionsWithIndex(f).collect()    \n",
    "print(res)\n",
    "final_res = \"\"\n",
    "for i in range(len(res)):\n",
    "    if res[i][1] != \"\":\n",
    "        final_res = res[i][1]\n",
    "        break\n",
    "\n",
    "print(\"first adj is \",final_res)"
   ]
  },
  {
   "cell_type": "code",
   "execution_count": 14,
   "metadata": {},
   "outputs": [
    {
     "ename": "SyntaxError",
     "evalue": "invalid non-printable character U+00A0 (503954169.py, line 10)",
     "output_type": "error",
     "traceback": [
      "\u001b[0;36m  File \u001b[0;32m\"/var/folders/h0/cr6ykp052gngl6yqd4mtpvtm0000gn/T/ipykernel_1174/503954169.py\"\u001b[0;36m, line \u001b[0;32m10\u001b[0m\n\u001b[0;31m    label = \"=\"\u001b[0m\n\u001b[0m    ^\u001b[0m\n\u001b[0;31mSyntaxError\u001b[0m\u001b[0;31m:\u001b[0m invalid non-printable character U+00A0\n"
     ]
    }
   ],
   "source": [
    "x = 'abcccbcbcacaccacaabb'\n",
    "y = 'abcccbcccacaccacaabb'\n",
    "\n",
    "numPartitions = 4\n",
    "rdd = sc.parallelize(zip(x,y), numPartitions)\n",
    "\n",
    "\n",
    "\n",
    "def f(index, it):\n",
    "    label = \"=\"\n",
    "    for i in it:\n",
    "        if i[0] == i[1]:\n",
    "            continue\n",
    "        if i[0]>i[1]:\n",
    "            label = \">\"\n",
    "            break\n",
    "        else:\n",
    "            label = \"<\"\n",
    "            break\n",
    "    yield index, label\n",
    "\n",
    "# FILL IN YOUR CODE HERE\n",
    "res = rdd.mapPartitionsWithIndex(f).collect()\n",
    "#print(res)\n",
    "\n",
    "final_res = \"=\"\n",
    "for i in range(len(res)):\n",
    "    if res[i][1] == \"=\":\n",
    "        continue\n",
    "    elif res[i][1]!= \"=\":\n",
    "        final_res = res[i][1]\n",
    "        break\n",
    "\n",
    "print(\"lexicographical order of x and y is \",final_res)"
   ]
  },
  {
   "cell_type": "code",
   "execution_count": 17,
   "metadata": {},
   "outputs": [
    {
     "ename": "SyntaxError",
     "evalue": "invalid non-printable character U+00A0 (1110202099.py, line 2)",
     "output_type": "error",
     "traceback": [
      "\u001b[0;36m  File \u001b[0;32m\"/var/folders/h0/cr6ykp052gngl6yqd4mtpvtm0000gn/T/ipykernel_1174/1110202099.py\"\u001b[0;36m, line \u001b[0;32m2\u001b[0m\n\u001b[0;31m    for i in it:\u001b[0m\n\u001b[0m    ^\u001b[0m\n\u001b[0;31mSyntaxError\u001b[0m\u001b[0;31m:\u001b[0m invalid non-printable character U+00A0\n"
     ]
    }
   ],
   "source": [
    "def f(index, it):\n",
    "    for i in it:\n",
    "        yield i+index\n",
    "\n",
    "A = sc.parallelize(range(100), 4).mapPartitionsWithIndex(f)\n",
    "print(A.take(100))"
   ]
  },
  {
   "cell_type": "code",
   "execution_count": null,
   "metadata": {},
   "outputs": [],
   "source": []
  }
 ],
 "metadata": {
  "kernelspec": {
   "display_name": "Python 3 (ipykernel)",
   "language": "python",
   "name": "python3"
  },
  "language_info": {
   "codemirror_mode": {
    "name": "ipython",
    "version": 3
   },
   "file_extension": ".py",
   "mimetype": "text/x-python",
   "name": "python",
   "nbconvert_exporter": "python",
   "pygments_lexer": "ipython3",
   "version": "3.9.13"
  }
 },
 "nbformat": 4,
 "nbformat_minor": 2
}
